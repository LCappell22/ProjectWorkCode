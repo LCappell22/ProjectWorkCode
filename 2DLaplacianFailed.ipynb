{
 "cells": [
  {
   "cell_type": "code",
   "execution_count": 109,
   "id": "20b4443b-3f18-4f92-b4c4-687ea5cd5714",
   "metadata": {},
   "outputs": [
    {
     "ename": "ValueError",
     "evalue": "Non-square system: group=(None, None), I=4352, J=4100",
     "output_type": "error",
     "traceback": [
      "\u001b[0;31m---------------------------------------------------------------------------\u001b[0m",
      "\u001b[0;31mValueError\u001b[0m                                Traceback (most recent call last)",
      "Cell \u001b[0;32mIn[109], line 47\u001b[0m\n\u001b[1;32m     45\u001b[0m \u001b[38;5;66;03m#Solver\u001b[39;00m\n\u001b[1;32m     46\u001b[0m solver \u001b[38;5;241m=\u001b[39m problem\u001b[38;5;241m.\u001b[39mbuild_solver()\n\u001b[0;32m---> 47\u001b[0m \u001b[43msolver\u001b[49m\u001b[38;5;241;43m.\u001b[39;49m\u001b[43msolve_dense\u001b[49m\u001b[43m(\u001b[49m\u001b[43msolver\u001b[49m\u001b[38;5;241;43m.\u001b[39;49m\u001b[43msubproblems\u001b[49m\u001b[43m[\u001b[49m\u001b[38;5;241;43m0\u001b[39;49m\u001b[43m]\u001b[49m\u001b[43m)\u001b[49m\n",
      "File \u001b[0;32m~/miniforge3/lib/python3.12/site-packages/dedalus/core/solvers.py:206\u001b[0m, in \u001b[0;36mEigenvalueSolver.solve_dense\u001b[0;34m(self, subproblem, rebuild_matrices, left, normalize_left, **kw)\u001b[0m\n\u001b[1;32m    204\u001b[0m \u001b[38;5;66;03m# Build matrices if directed or not yet built\u001b[39;00m\n\u001b[1;32m    205\u001b[0m \u001b[38;5;28;01mif\u001b[39;00m rebuild_matrices \u001b[38;5;129;01mor\u001b[39;00m \u001b[38;5;129;01mnot\u001b[39;00m \u001b[38;5;28mhasattr\u001b[39m(sp, \u001b[38;5;124m'\u001b[39m\u001b[38;5;124mL_min\u001b[39m\u001b[38;5;124m'\u001b[39m):\n\u001b[0;32m--> 206\u001b[0m     \u001b[38;5;28;43mself\u001b[39;49m\u001b[38;5;241;43m.\u001b[39;49m\u001b[43mbuild_matrices\u001b[49m\u001b[43m(\u001b[49m\u001b[43m[\u001b[49m\u001b[43msp\u001b[49m\u001b[43m]\u001b[49m\u001b[43m,\u001b[49m\u001b[43m \u001b[49m\u001b[43m[\u001b[49m\u001b[38;5;124;43m'\u001b[39;49m\u001b[38;5;124;43mM\u001b[39;49m\u001b[38;5;124;43m'\u001b[39;49m\u001b[43m,\u001b[49m\u001b[43m \u001b[49m\u001b[38;5;124;43m'\u001b[39;49m\u001b[38;5;124;43mL\u001b[39;49m\u001b[38;5;124;43m'\u001b[39;49m\u001b[43m]\u001b[49m\u001b[43m)\u001b[49m\n\u001b[1;32m    207\u001b[0m \u001b[38;5;66;03m# Solve as dense general eigenvalue problem\u001b[39;00m\n\u001b[1;32m    208\u001b[0m A \u001b[38;5;241m=\u001b[39m sp\u001b[38;5;241m.\u001b[39mL_min\u001b[38;5;241m.\u001b[39mtoarray()\n",
      "File \u001b[0;32m~/miniforge3/lib/python3.12/site-packages/dedalus/core/solvers.py:131\u001b[0m, in \u001b[0;36mSolverBase.build_matrices\u001b[0;34m(self, subproblems, matrices)\u001b[0m\n\u001b[1;32m    129\u001b[0m \u001b[38;5;28;01mif\u001b[39;00m matrices \u001b[38;5;129;01mis\u001b[39;00m \u001b[38;5;28;01mNone\u001b[39;00m:\n\u001b[1;32m    130\u001b[0m     matrices \u001b[38;5;241m=\u001b[39m \u001b[38;5;28mself\u001b[39m\u001b[38;5;241m.\u001b[39mmatrices\n\u001b[0;32m--> 131\u001b[0m \u001b[43msubsystems\u001b[49m\u001b[38;5;241;43m.\u001b[39;49m\u001b[43mbuild_subproblem_matrices\u001b[49m\u001b[43m(\u001b[49m\u001b[38;5;28;43mself\u001b[39;49m\u001b[43m,\u001b[49m\u001b[43m \u001b[49m\u001b[43msubproblems\u001b[49m\u001b[43m,\u001b[49m\u001b[43m \u001b[49m\u001b[43mmatrices\u001b[49m\u001b[43m)\u001b[49m\n",
      "File \u001b[0;32m~/miniforge3/lib/python3.12/site-packages/dedalus/core/subsystems.py:81\u001b[0m, in \u001b[0;36mbuild_subproblem_matrices\u001b[0;34m(solver, subproblems, matrices)\u001b[0m\n\u001b[1;32m     79\u001b[0m \u001b[38;5;66;03m# Build matrices\u001b[39;00m\n\u001b[1;32m     80\u001b[0m \u001b[38;5;28;01mfor\u001b[39;00m subproblem \u001b[38;5;129;01min\u001b[39;00m log_progress(subproblems, logger, \u001b[38;5;124m'\u001b[39m\u001b[38;5;124minfo\u001b[39m\u001b[38;5;124m'\u001b[39m, desc\u001b[38;5;241m=\u001b[39m\u001b[38;5;124m'\u001b[39m\u001b[38;5;124mBuilding subproblem matrices\u001b[39m\u001b[38;5;124m'\u001b[39m, \u001b[38;5;28miter\u001b[39m\u001b[38;5;241m=\u001b[39mnp\u001b[38;5;241m.\u001b[39minf, frac\u001b[38;5;241m=\u001b[39m\u001b[38;5;241m0.1\u001b[39m, dt\u001b[38;5;241m=\u001b[39m\u001b[38;5;241m10\u001b[39m):\n\u001b[0;32m---> 81\u001b[0m      \u001b[43msubproblem\u001b[49m\u001b[38;5;241;43m.\u001b[39;49m\u001b[43mbuild_matrices\u001b[49m\u001b[43m(\u001b[49m\u001b[43mmatrices\u001b[49m\u001b[43m)\u001b[49m\n",
      "File \u001b[0;32m~/miniforge3/lib/python3.12/site-packages/dedalus/core/subsystems.py:552\u001b[0m, in \u001b[0;36mSubproblem.build_matrices\u001b[0;34m(self, names)\u001b[0m\n\u001b[1;32m    550\u001b[0m \u001b[38;5;66;03m# Check squareness of restricted system\u001b[39;00m\n\u001b[1;32m    551\u001b[0m \u001b[38;5;28;01mif\u001b[39;00m valid_eqn\u001b[38;5;241m.\u001b[39mnnz \u001b[38;5;241m!=\u001b[39m valid_var\u001b[38;5;241m.\u001b[39mnnz:\n\u001b[0;32m--> 552\u001b[0m     \u001b[38;5;28;01mraise\u001b[39;00m \u001b[38;5;167;01mValueError\u001b[39;00m(\u001b[38;5;124m\"\u001b[39m\u001b[38;5;124mNon-square system: group=\u001b[39m\u001b[38;5;132;01m{}\u001b[39;00m\u001b[38;5;124m, I=\u001b[39m\u001b[38;5;132;01m{}\u001b[39;00m\u001b[38;5;124m, J=\u001b[39m\u001b[38;5;132;01m{}\u001b[39;00m\u001b[38;5;124m\"\u001b[39m\u001b[38;5;241m.\u001b[39mformat(\u001b[38;5;28mself\u001b[39m\u001b[38;5;241m.\u001b[39mgroup, valid_eqn\u001b[38;5;241m.\u001b[39mnnz, valid_var\u001b[38;5;241m.\u001b[39mnnz))\n\u001b[1;32m    554\u001b[0m \u001b[38;5;66;03m# Permutations\u001b[39;00m\n\u001b[1;32m    555\u001b[0m left_perm \u001b[38;5;241m=\u001b[39m left_permutation(\u001b[38;5;28mself\u001b[39m, eqns, bc_top\u001b[38;5;241m=\u001b[39msolver\u001b[38;5;241m.\u001b[39mbc_top, interleave_components\u001b[38;5;241m=\u001b[39msolver\u001b[38;5;241m.\u001b[39minterleave_components)\u001b[38;5;241m.\u001b[39mtocsr()\n",
      "\u001b[0;31mValueError\u001b[0m: Non-square system: group=(None, None), I=4352, J=4100"
     ]
    }
   ],
   "source": [
    "import dedalus.public as d3\n",
    "import numpy as np\n",
    "import matplotlib.pyplot as plt\n",
    "import scipy.constants as sc\n",
    "\n",
    "'''\n",
    "Code solving the 2D Laplacian equation:\n",
    "    ∇²u = λu\n",
    "with boundaries at x ∈ [0,1] and y ∈ [0,1], with homogeneous Dirichlet boundary conditions\n",
    "and then plotting the first 10 eigenvalues calculated.\n",
    "'''\n",
    "\n",
    "#Bases\n",
    "coords = d3.CartesianCoordinates('x', 'y')\n",
    "dist = d3.Distributor(coords, dtype=np.float64)\n",
    "xbasis = d3.Chebyshev(coords['x'], 64, bounds=(0,1), dealias=3/2)\n",
    "ybasis = d3.Chebyshev(coords['y'], 64, bounds=(0,1), dealias=3/2)\n",
    "\n",
    "#Fields\n",
    "u = dist.Field(name='u', bases=(xbasis, ybasis))\n",
    "lam = dist.Field(name='lam')\n",
    "tau1 = dist.Field(name='tau1')\n",
    "tau2 = dist.Field(name='tau2')\n",
    "tau3 = dist.Field(name='tau3')\n",
    "tau4 = dist.Field(name='tau4')\n",
    "\n",
    "\n",
    "#Subs\n",
    "x = dist.local_grid(xbasis)\n",
    "y = dist.local_grid(ybasis)\n",
    "lift_basis1 = xbasis.derivative_basis(1)\n",
    "lift_basis2 = ybasis.derivative_basis(1) \n",
    "liftx = lambda A: d3.Lift(A, lift_basis1, -1)\n",
    "lifty = lambda A: d3.Lift(A, lift_basis2, -1)\n",
    "\n",
    "#Problem\n",
    "problem = d3.EVP([u, tau1, tau2, tau3, tau4], eigenvalue=lam, namespace=locals())\n",
    "\n",
    "problem.add_equation(\"lap(u) - lam*u + liftx(tau1) + liftx(tau2) + lifty(tau3) + lifty(tau4) = 0\")\n",
    "problem.add_equation(\"u(y = 0) = 0\")\n",
    "problem.add_equation(\"u(y = 1) = 0\")\n",
    "problem.add_equation(\"u(x = 0) = 0\")\n",
    "problem.add_equation(\"u(x = 1) = 0\")\n",
    "\n",
    "#Solver\n",
    "solver = problem.build_solver()\n",
    "solver.solve_dense(solver.subproblems[0])"
   ]
  },
  {
   "cell_type": "code",
   "execution_count": null,
   "id": "7ddc9931-1549-4f40-91f1-48c550f9ee0c",
   "metadata": {},
   "outputs": [],
   "source": []
  }
 ],
 "metadata": {
  "kernelspec": {
   "display_name": "Python 3 (ipykernel)",
   "language": "python",
   "name": "python3"
  },
  "language_info": {
   "codemirror_mode": {
    "name": "ipython",
    "version": 3
   },
   "file_extension": ".py",
   "mimetype": "text/x-python",
   "name": "python",
   "nbconvert_exporter": "python",
   "pygments_lexer": "ipython3",
   "version": "3.12.8"
  }
 },
 "nbformat": 4,
 "nbformat_minor": 5
}
